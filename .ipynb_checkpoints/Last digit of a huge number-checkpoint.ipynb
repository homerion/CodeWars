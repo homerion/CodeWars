{
 "cells": [
  {
   "cell_type": "code",
   "execution_count": null,
   "metadata": {},
   "outputs": [],
   "source": [
    "# https://www.codewars.com/kata/5518a860a73e708c0a000027"
   ]
  },
  {
   "cell_type": "code",
   "execution_count": 66,
   "metadata": {},
   "outputs": [],
   "source": [
    "def last_digits(exp):\n",
    "    x=exp\n",
    "    if not x:\n",
    "        return 1\n",
    "    for i in range(1,len(x))[::-1]:\n",
    "        if x[i]==0:\n",
    "            x=x[:i-1]+[1]\n",
    "    digit = int(str(x[0])[-1])\n",
    "    if len(x)==1:\n",
    "        return digit\n",
    "    endtable = [[int(str(i**x)[-1]) for x in range(1,5)] for i in range(10)]\n",
    "    modulo = len(set(endtable[digit]))\n",
    "    if modulo==1:\n",
    "        return digit\n",
    "    elif modulo==2 or len(x)==2:\n",
    "        return endtable[digit][(x[1]-1)%modulo]\n",
    "    else:\n",
    "        if (x[1]%modulo)==0 or (x[1]%modulo)==1:\n",
    "            return endtable[digit][(x[1]-1)%modulo]\n",
    "        elif (x[1]%modulo)==2:\n",
    "            if x[2]==1:\n",
    "                return endtable[digit][1]\n",
    "            else:\n",
    "                return endtable[digit][3]\n",
    "        else:\n",
    "            return endtable[digit][[0,2][x[2]%2]]\n",
    "    "
   ]
  },
  {
   "cell_type": "code",
   "execution_count": 4,
   "metadata": {},
   "outputs": [
    {
     "data": {
      "text/plain": [
       "9"
      ]
     },
     "execution_count": 4,
     "metadata": {},
     "output_type": "execute_result"
    }
   ],
   "source": [
    "int(str(9**9)[-1])"
   ]
  },
  {
   "cell_type": "code",
   "execution_count": 118,
   "metadata": {},
   "outputs": [],
   "source": [
    "def possible_ends(x):\n",
    "    return [int(str(x**i)[-1]) for i in range(1,5)]"
   ]
  },
  {
   "cell_type": "code",
   "execution_count": 34,
   "metadata": {},
   "outputs": [
    {
     "data": {
      "text/plain": [
       "{'0', '1'}"
      ]
     },
     "execution_count": 34,
     "metadata": {},
     "output_type": "execute_result"
    }
   ],
   "source": [
    "possible_ends(0)"
   ]
  },
  {
   "cell_type": "code",
   "execution_count": 64,
   "metadata": {},
   "outputs": [
    {
     "data": {
      "text/plain": [
       "{'1', '3', '7', '9'}"
      ]
     },
     "execution_count": 64,
     "metadata": {},
     "output_type": "execute_result"
    }
   ],
   "source": [
    "possible_ends(7)"
   ]
  },
  {
   "cell_type": "code",
   "execution_count": 66,
   "metadata": {},
   "outputs": [],
   "source": [
    "#(99942**898102) is equivalent to (2**898102)"
   ]
  },
  {
   "cell_type": "code",
   "execution_count": 121,
   "metadata": {},
   "outputs": [],
   "source": [
    "endtable = {\"{}\".format(i):possible_ends(i) for i in range(10)}"
   ]
  },
  {
   "cell_type": "code",
   "execution_count": 122,
   "metadata": {},
   "outputs": [
    {
     "data": {
      "text/plain": [
       "{'0': [0, 0, 0, 0],\n",
       " '1': [1, 1, 1, 1],\n",
       " '2': [2, 4, 8, 6],\n",
       " '3': [3, 9, 7, 1],\n",
       " '4': [4, 6, 4, 6],\n",
       " '5': [5, 5, 5, 5],\n",
       " '6': [6, 6, 6, 6],\n",
       " '7': [7, 9, 3, 1],\n",
       " '8': [8, 4, 2, 6],\n",
       " '9': [9, 1, 9, 1]}"
      ]
     },
     "execution_count": 122,
     "metadata": {},
     "output_type": "execute_result"
    }
   ],
   "source": [
    "endtable"
   ]
  },
  {
   "cell_type": "code",
   "execution_count": 103,
   "metadata": {},
   "outputs": [
    {
     "data": {
      "text/plain": [
       "21847450052839212624230656502990235142567050104912751880812823948662932355201"
      ]
     },
     "execution_count": 103,
     "metadata": {},
     "output_type": "execute_result"
    }
   ],
   "source": [
    "9**80"
   ]
  },
  {
   "cell_type": "code",
   "execution_count": 104,
   "metadata": {},
   "outputs": [
    {
     "data": {
      "text/plain": [
       "220855883097298041197912187592864814478435487109452369765200775161577472"
      ]
     },
     "execution_count": 104,
     "metadata": {},
     "output_type": "execute_result"
    }
   ],
   "source": [
    "8**79"
   ]
  },
  {
   "cell_type": "code",
   "execution_count": 126,
   "metadata": {},
   "outputs": [
    {
     "data": {
      "text/plain": [
       "2"
      ]
     },
     "execution_count": 126,
     "metadata": {},
     "output_type": "execute_result"
    }
   ],
   "source": [
    "endtable['8'][(79-1)%4]"
   ]
  },
  {
   "cell_type": "code",
   "execution_count": 112,
   "metadata": {},
   "outputs": [
    {
     "data": {
      "text/plain": [
       "5790887942449198118866552301288096257267888893001726249456064921143"
      ]
     },
     "execution_count": 112,
     "metadata": {},
     "output_type": "execute_result"
    }
   ],
   "source": [
    "7**79"
   ]
  },
  {
   "cell_type": "code",
   "execution_count": 127,
   "metadata": {},
   "outputs": [
    {
     "data": {
      "text/plain": [
       "3"
      ]
     },
     "execution_count": 127,
     "metadata": {},
     "output_type": "execute_result"
    }
   ],
   "source": [
    "endtable['7'][(79-1)%4]"
   ]
  },
  {
   "cell_type": "code",
   "execution_count": 128,
   "metadata": {},
   "outputs": [
    {
     "data": {
      "text/plain": [
       "1"
      ]
     },
     "execution_count": 128,
     "metadata": {},
     "output_type": "execute_result"
    }
   ],
   "source": [
    "7**0"
   ]
  },
  {
   "cell_type": "code",
   "execution_count": 133,
   "metadata": {},
   "outputs": [
    {
     "data": {
      "text/plain": [
       "0"
      ]
     },
     "execution_count": 133,
     "metadata": {},
     "output_type": "execute_result"
    }
   ],
   "source": [
    "(6**6**5)%4"
   ]
  },
  {
   "cell_type": "code",
   "execution_count": 6,
   "metadata": {},
   "outputs": [
    {
     "name": "stdout",
     "output_type": "stream",
     "text": [
      "yes\n"
     ]
    }
   ],
   "source": [
    "if not []:\n",
    "    print('yes')"
   ]
  },
  {
   "cell_type": "code",
   "execution_count": 42,
   "metadata": {},
   "outputs": [],
   "source": [
    "def last_digits(x):\n",
    "    if not x:\n",
    "        return 1\n",
    "    digit = int(str(x[0])[-1])\n",
    "    if digit == 0 or digit == 1 or digit == 5 or digit == 6:\n",
    "        return digit\n",
    "    else:\n",
    "        return 'other'"
   ]
  },
  {
   "cell_type": "code",
   "execution_count": 45,
   "metadata": {},
   "outputs": [
    {
     "data": {
      "text/plain": [
       "'other'"
      ]
     },
     "execution_count": 45,
     "metadata": {},
     "output_type": "execute_result"
    }
   ],
   "source": [
    "last_digits([1232])"
   ]
  },
  {
   "cell_type": "code",
   "execution_count": 156,
   "metadata": {},
   "outputs": [
    {
     "data": {
      "text/plain": [
       "[[0, 0, 0, 0],\n",
       " [1, 1, 1, 1],\n",
       " [2, 4, 8, 6],\n",
       " [3, 9, 7, 1],\n",
       " [4, 6, 4, 6],\n",
       " [5, 5, 5, 5],\n",
       " [6, 6, 6, 6],\n",
       " [7, 9, 3, 1],\n",
       " [8, 4, 2, 6],\n",
       " [9, 1, 9, 1]]"
      ]
     },
     "execution_count": 156,
     "metadata": {},
     "output_type": "execute_result"
    }
   ],
   "source": [
    "endtable"
   ]
  },
  {
   "cell_type": "code",
   "execution_count": 65,
   "metadata": {},
   "outputs": [
    {
     "name": "stdout",
     "output_type": "stream",
     "text": [
      "22846712859873746480447821666592346426694132333435558998983412854961114186622574870902442510049863025667206258127311451949520409822391138243055993672121915936570990365106665813437806284123385754752042992343 3\n"
     ]
    }
   ],
   "source": [
    "x3=5\n",
    "x2=3\n",
    "x1=7\n",
    "print(x1**(x2**x3), endtable[x1][[0,2][x3%2]])"
   ]
  },
  {
   "cell_type": "code",
   "execution_count": 190,
   "metadata": {},
   "outputs": [
    {
     "data": {
      "text/plain": [
       "16"
      ]
     },
     "execution_count": 190,
     "metadata": {},
     "output_type": "execute_result"
    }
   ],
   "source": [
    "2**4"
   ]
  },
  {
   "cell_type": "code",
   "execution_count": null,
   "metadata": {},
   "outputs": [],
   "source": []
  },
  {
   "cell_type": "code",
   "execution_count": 70,
   "metadata": {},
   "outputs": [
    {
     "data": {
      "text/plain": [
       "0"
      ]
     },
     "execution_count": 70,
     "metadata": {},
     "output_type": "execute_result"
    }
   ],
   "source": [
    "last_digits([0,2])"
   ]
  },
  {
   "cell_type": "code",
   "execution_count": 214,
   "metadata": {},
   "outputs": [
    {
     "data": {
      "text/plain": [
       "1"
      ]
     },
     "execution_count": 214,
     "metadata": {},
     "output_type": "execute_result"
    }
   ],
   "source": [
    "2**0**0**0"
   ]
  },
  {
   "cell_type": "code",
   "execution_count": 161,
   "metadata": {},
   "outputs": [
    {
     "name": "stdout",
     "output_type": "stream",
     "text": [
      "1329227995784915872903807060280344576\n"
     ]
    }
   ],
   "source": [
    "x=2\n",
    "for i in range(1,6):\n",
    "    x=x**i\n",
    "print(x)"
   ]
  },
  {
   "cell_type": "code",
   "execution_count": 80,
   "metadata": {},
   "outputs": [
    {
     "data": {
      "text/plain": [
       "'ello'"
      ]
     },
     "execution_count": 80,
     "metadata": {},
     "output_type": "execute_result"
    }
   ],
   "source": [
    "'hello'[1::]"
   ]
  },
  {
   "cell_type": "code",
   "execution_count": 31,
   "metadata": {},
   "outputs": [
    {
     "data": {
      "text/plain": [
       "[0, 1, 1]"
      ]
     },
     "execution_count": 31,
     "metadata": {},
     "output_type": "execute_result"
    }
   ],
   "source": [
    "n=[0,1,2,0]\n",
    "for i in range(1,len(n))[::-1]:\n",
    "    if n[i]==0:\n",
    "        n=n[:i-1]+[1]\n",
    "n"
   ]
  },
  {
   "cell_type": "code",
   "execution_count": null,
   "metadata": {},
   "outputs": [],
   "source": []
  },
  {
   "cell_type": "code",
   "execution_count": 41,
   "metadata": {},
   "outputs": [
    {
     "data": {
      "text/plain": [
       "'o'"
      ]
     },
     "execution_count": 41,
     "metadata": {},
     "output_type": "execute_result"
    }
   ],
   "source": [
    "'o'[-1]"
   ]
  },
  {
   "cell_type": "code",
   "execution_count": 53,
   "metadata": {},
   "outputs": [],
   "source": [
    "endtable = [[int(str(i**x)[-1]) for x in range(1,5)] for i in range(10)]"
   ]
  },
  {
   "cell_type": "code",
   "execution_count": 65,
   "metadata": {},
   "outputs": [
    {
     "data": {
      "text/plain": [
       "[[0, 0, 0, 0],\n",
       " [1, 1, 1, 1],\n",
       " [2, 4, 8, 6],\n",
       " [3, 9, 7, 1],\n",
       " [4, 6, 4, 6],\n",
       " [5, 5, 5, 5],\n",
       " [6, 6, 6, 6],\n",
       " [7, 9, 3, 1],\n",
       " [8, 4, 2, 6],\n",
       " [9, 1, 9, 1]]"
      ]
     },
     "execution_count": 65,
     "metadata": {},
     "output_type": "execute_result"
    }
   ],
   "source": [
    "endtable"
   ]
  },
  {
   "cell_type": "code",
   "execution_count": 69,
   "metadata": {},
   "outputs": [
    {
     "data": {
      "text/plain": [
       "[8, 4, 2, 6]"
      ]
     },
     "execution_count": 69,
     "metadata": {},
     "output_type": "execute_result"
    }
   ],
   "source": [
    "endtable[8]"
   ]
  },
  {
   "cell_type": "code",
   "execution_count": 47,
   "metadata": {},
   "outputs": [
    {
     "data": {
      "text/plain": [
       "0"
      ]
     },
     "execution_count": 47,
     "metadata": {},
     "output_type": "execute_result"
    }
   ],
   "source": [
    "(7-1)%2"
   ]
  },
  {
   "cell_type": "code",
   "execution_count": 70,
   "metadata": {},
   "outputs": [
    {
     "data": {
      "text/plain": [
       "4"
      ]
     },
     "execution_count": 70,
     "metadata": {},
     "output_type": "execute_result"
    }
   ],
   "source": [
    "len(set(endtable[8]))"
   ]
  },
  {
   "cell_type": "code",
   "execution_count": 215,
   "metadata": {},
   "outputs": [
    {
     "name": "stdout",
     "output_type": "stream",
     "text": [
      "9\n",
      "8\n",
      "7\n",
      "6\n",
      "5\n",
      "4\n",
      "3\n",
      "2\n",
      "1\n",
      "0\n"
     ]
    }
   ],
   "source": [
    "for i in range(10)[::-1]:\n",
    "    print(i)"
   ]
  },
  {
   "cell_type": "code",
   "execution_count": 207,
   "metadata": {},
   "outputs": [
    {
     "name": "stdout",
     "output_type": "stream",
     "text": [
      "0 [1, 0, 0, 0, 0, 0, 0, 0, 0, 0]\n",
      "1 [1, 1, 1, 1, 1, 1, 1, 1, 1, 1]\n",
      "2 [1, 2, 0, 0, 0, 0, 0, 0, 0, 0]\n",
      "3 [1, 3, 1, 3, 1, 3, 1, 3, 1, 3]\n",
      "4 [1, 0, 0, 0, 0, 0, 0, 0, 0, 0]\n",
      "5 [1, 1, 1, 1, 1, 1, 1, 1, 1, 1]\n",
      "6 [1, 2, 0, 0, 0, 0, 0, 0, 0, 0]\n",
      "7 [1, 3, 1, 3, 1, 3, 1, 3, 1, 3]\n",
      "8 [1, 0, 0, 0, 0, 0, 0, 0, 0, 0]\n",
      "9 [1, 1, 1, 1, 1, 1, 1, 1, 1, 1]\n",
      "10 [1, 2, 0, 0, 0, 0, 0, 0, 0, 0]\n",
      "11 [1, 3, 1, 3, 1, 3, 1, 3, 1, 3]\n",
      "12 [1, 0, 0, 0, 0, 0, 0, 0, 0, 0]\n",
      "13 [1, 1, 1, 1, 1, 1, 1, 1, 1, 1]\n",
      "14 [1, 2, 0, 0, 0, 0, 0, 0, 0, 0]\n",
      "15 [1, 3, 1, 3, 1, 3, 1, 3, 1, 3]\n"
     ]
    }
   ],
   "source": [
    "for i in range(16):\n",
    "    print(i,[(i**j)%4 for j in range(10)])"
   ]
  },
  {
   "cell_type": "code",
   "execution_count": 204,
   "metadata": {},
   "outputs": [
    {
     "name": "stdout",
     "output_type": "stream",
     "text": [
      "0 [1, 0, 0, 0, 0, 0, 0, 0, 0, 0]\n",
      "1 [1, 1, 1, 1, 1, 1, 1, 1, 1, 1]\n",
      "2 [1, 0, 0, 0, 0, 0, 0, 0, 0, 0]\n",
      "3 [1, 1, 1, 1, 1, 1, 1, 1, 1, 1]\n",
      "4 [1, 0, 0, 0, 0, 0, 0, 0, 0, 0]\n",
      "5 [1, 1, 1, 1, 1, 1, 1, 1, 1, 1]\n",
      "6 [1, 0, 0, 0, 0, 0, 0, 0, 0, 0]\n",
      "7 [1, 1, 1, 1, 1, 1, 1, 1, 1, 1]\n",
      "8 [1, 0, 0, 0, 0, 0, 0, 0, 0, 0]\n",
      "9 [1, 1, 1, 1, 1, 1, 1, 1, 1, 1]\n",
      "10 [1, 0, 0, 0, 0, 0, 0, 0, 0, 0]\n",
      "11 [1, 1, 1, 1, 1, 1, 1, 1, 1, 1]\n",
      "12 [1, 0, 0, 0, 0, 0, 0, 0, 0, 0]\n",
      "13 [1, 1, 1, 1, 1, 1, 1, 1, 1, 1]\n",
      "14 [1, 0, 0, 0, 0, 0, 0, 0, 0, 0]\n",
      "15 [1, 1, 1, 1, 1, 1, 1, 1, 1, 1]\n"
     ]
    }
   ],
   "source": [
    "for i in range(16):\n",
    "    print(i,[(i**j)%2 for j in range(10)])"
   ]
  },
  {
   "cell_type": "code",
   "execution_count": 69,
   "metadata": {},
   "outputs": [
    {
     "data": {
      "text/plain": [
       "1"
      ]
     },
     "execution_count": 69,
     "metadata": {},
     "output_type": "execute_result"
    }
   ],
   "source": [
    "3%2"
   ]
  },
  {
   "cell_type": "code",
   "execution_count": 35,
   "metadata": {},
   "outputs": [
    {
     "data": {
      "text/plain": [
       "512"
      ]
     },
     "execution_count": 35,
     "metadata": {},
     "output_type": "execute_result"
    }
   ],
   "source": [
    "2**(7%4)**(2%4)"
   ]
  },
  {
   "cell_type": "code",
   "execution_count": 56,
   "metadata": {},
   "outputs": [
    {
     "data": {
      "text/plain": [
       "64"
      ]
     },
     "execution_count": 56,
     "metadata": {},
     "output_type": "execute_result"
    }
   ],
   "source": [
    "4**3"
   ]
  },
  {
   "cell_type": "code",
   "execution_count": 6,
   "metadata": {},
   "outputs": [
    {
     "data": {
      "text/plain": [
       "4294967296"
      ]
     },
     "execution_count": 6,
     "metadata": {},
     "output_type": "execute_result"
    }
   ],
   "source": [
    "4**2**4"
   ]
  },
  {
   "cell_type": "code",
   "execution_count": 66,
   "metadata": {},
   "outputs": [
    {
     "data": {
      "text/plain": [
       "4"
      ]
     },
     "execution_count": 66,
     "metadata": {},
     "output_type": "execute_result"
    }
   ],
   "source": [
    "(4**(3%2)**4**13**2)"
   ]
  },
  {
   "cell_type": "code",
   "execution_count": 68,
   "metadata": {},
   "outputs": [
    {
     "data": {
      "text/plain": [
       "2"
      ]
     },
     "execution_count": 68,
     "metadata": {},
     "output_type": "execute_result"
    }
   ],
   "source": [
    "len([1,2])"
   ]
  },
  {
   "cell_type": "code",
   "execution_count": 83,
   "metadata": {},
   "outputs": [],
   "source": [
    "t = [1,2,4,8]"
   ]
  },
  {
   "cell_type": "code",
   "execution_count": 86,
   "metadata": {},
   "outputs": [
    {
     "data": {
      "text/plain": [
       "8"
      ]
     },
     "execution_count": 86,
     "metadata": {},
     "output_type": "execute_result"
    }
   ],
   "source": [
    "t[len(t)-1]"
   ]
  },
  {
   "cell_type": "code",
   "execution_count": 51,
   "metadata": {},
   "outputs": [
    {
     "data": {
      "text/plain": [
       "1"
      ]
     },
     "execution_count": 51,
     "metadata": {},
     "output_type": "execute_result"
    }
   ],
   "source": [
    "last_digits([])"
   ]
  },
  {
   "cell_type": "code",
   "execution_count": 83,
   "metadata": {},
   "outputs": [
    {
     "name": "stdout",
     "output_type": "stream",
     "text": [
      "0 1\n",
      "1 1\n",
      "4 4\n",
      "7 27\n",
      "6 256\n",
      "5 3125\n",
      "6 46656\n",
      "3 823543\n",
      "6 16777216\n",
      "9 387420489\n"
     ]
    }
   ],
   "source": [
    "for i in range(10):\n",
    "    print(last_digits([i,i]),i**i)"
   ]
  },
  {
   "cell_type": "code",
   "execution_count": 118,
   "metadata": {},
   "outputs": [
    {
     "name": "stdout",
     "output_type": "stream",
     "text": [
      "0 0 0\n",
      "1 1 1\n",
      "6 2 16\n",
      "9 3 7625597484987\n"
     ]
    }
   ],
   "source": [
    "for i in range(0,4):\n",
    "    print(last_digits([i,i,i]), i, i**i**i)"
   ]
  },
  {
   "cell_type": "code",
   "execution_count": 128,
   "metadata": {},
   "outputs": [
    {
     "data": {
      "text/plain": [
       "9"
      ]
     },
     "execution_count": 128,
     "metadata": {},
     "output_type": "execute_result"
    }
   ],
   "source": [
    "last_digits([3,1])"
   ]
  },
  {
   "cell_type": "code",
   "execution_count": 91,
   "metadata": {},
   "outputs": [
    {
     "data": {
      "text/plain": [
       "73897156067403508131992561964010797488623510811411465963096756553187673674242192208052907140882508921992930897316344188467202522254786303935865880767877211225678168284320446607858490555306354934819445999851584475980430310449242090867019155825594779128355380774995049124533408341373887572343"
      ]
     },
     "execution_count": 91,
     "metadata": {},
     "output_type": "execute_result"
    }
   ],
   "source": [
    "7**7**3"
   ]
  },
  {
   "cell_type": "code",
   "execution_count": 129,
   "metadata": {},
   "outputs": [
    {
     "data": {
      "text/plain": [
       "1"
      ]
     },
     "execution_count": 129,
     "metadata": {},
     "output_type": "execute_result"
    }
   ],
   "source": [
    "last_digits([7,7,3])"
   ]
  },
  {
   "cell_type": "code",
   "execution_count": 130,
   "metadata": {},
   "outputs": [
    {
     "data": {
      "text/plain": [
       "1"
      ]
     },
     "execution_count": 130,
     "metadata": {},
     "output_type": "execute_result"
    }
   ],
   "source": [
    "last_digits([7,79])"
   ]
  },
  {
   "cell_type": "code",
   "execution_count": 100,
   "metadata": {},
   "outputs": [
    {
     "data": {
      "text/plain": [
       "13407807929942597099574024998205846127479365820592393377723561443721764030073546976801874298166903427690031858186486050853753882811946569946433649006084096"
      ]
     },
     "execution_count": 100,
     "metadata": {},
     "output_type": "execute_result"
    }
   ],
   "source": [
    "4**4**4"
   ]
  },
  {
   "cell_type": "code",
   "execution_count": 138,
   "metadata": {},
   "outputs": [
    {
     "data": {
      "text/plain": [
       "6"
      ]
     },
     "execution_count": 138,
     "metadata": {},
     "output_type": "execute_result"
    }
   ],
   "source": [
    "last_digits([4,4])"
   ]
  },
  {
   "cell_type": "code",
   "execution_count": 115,
   "metadata": {},
   "outputs": [
    {
     "name": "stdout",
     "output_type": "stream",
     "text": [
      "1\n",
      "4\n",
      "16\n",
      "64\n",
      "256\n",
      "1024\n",
      "4096\n",
      "16384\n",
      "65536\n",
      "262144\n"
     ]
    }
   ],
   "source": [
    "for i in range(10):\n",
    "    print(4**i)"
   ]
  },
  {
   "cell_type": "code",
   "execution_count": 142,
   "metadata": {},
   "outputs": [
    {
     "data": {
      "text/plain": [
       "256"
      ]
     },
     "execution_count": 142,
     "metadata": {},
     "output_type": "execute_result"
    }
   ],
   "source": []
  },
  {
   "cell_type": "code",
   "execution_count": null,
   "metadata": {},
   "outputs": [],
   "source": []
  }
 ],
 "metadata": {
  "kernelspec": {
   "display_name": "Python 3",
   "language": "python",
   "name": "python3"
  },
  "language_info": {
   "codemirror_mode": {
    "name": "ipython",
    "version": 3
   },
   "file_extension": ".py",
   "mimetype": "text/x-python",
   "name": "python",
   "nbconvert_exporter": "python",
   "pygments_lexer": "ipython3",
   "version": "3.6.5"
  }
 },
 "nbformat": 4,
 "nbformat_minor": 2
}
