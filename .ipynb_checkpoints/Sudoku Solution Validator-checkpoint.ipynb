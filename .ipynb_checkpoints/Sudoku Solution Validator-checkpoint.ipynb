{
 "cells": [
  {
   "cell_type": "markdown",
   "metadata": {},
   "source": [
    "https://www.codewars.com/kata/529bf0e9bdf7657179000008"
   ]
  },
  {
   "cell_type": "markdown",
   "metadata": {},
   "source": [
    "Write a function validSolution/ValidateSolution/valid_solution() that accepts a 2D array representing a Sudoku board, and returns true if it is a valid solution, or false otherwise. The cells of the sudoku board may also contain 0's, which will represent empty cells. Boards containing one or more zeroes are considered to be invalid solutions.\n",
    "\n",
    "The board is always 9 cells by 9 cells, and every cell only contains integers from 0 to 9."
   ]
  },
  {
   "cell_type": "code",
   "execution_count": null,
   "metadata": {},
   "outputs": [],
   "source": [
    "def validSolution(board):\n",
    "    ideal=set([i for i in range(1,10) ])\n",
    "    #rows\n",
    "    for i in range(9):\n",
    "        if set(board[i])!=ideal:\n",
    "            return False\n",
    "        #columns\n",
    "        ortho=set()\n",
    "        for j in range(9):\n",
    "             ortho.add(board[j][i])\n",
    "        if ortho!=ideal:\n",
    "            return False\n",
    "    #regions\n",
    "    for regi in range(3):\n",
    "        for regj in range(3):\n",
    "            region=set()\n",
    "            for i in range(3):\n",
    "                for j in range(3):\n",
    "                    region.add(board[i+(regi*3)][j+(regj*3)])\n",
    "            \n",
    "            if region!=ideal:\n",
    "                return False\n",
    "    return True"
   ]
  }
 ],
 "metadata": {
  "kernelspec": {
   "display_name": "Python 3",
   "language": "python",
   "name": "python3"
  },
  "language_info": {
   "codemirror_mode": {
    "name": "ipython",
    "version": 3
   },
   "file_extension": ".py",
   "mimetype": "text/x-python",
   "name": "python",
   "nbconvert_exporter": "python",
   "pygments_lexer": "ipython3",
   "version": "3.6.5"
  }
 },
 "nbformat": 4,
 "nbformat_minor": 2
}
