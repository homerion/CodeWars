{
 "cells": [
  {
   "cell_type": "markdown",
   "metadata": {},
   "source": [
    "https://www.codewars.com/kata/51c8e37cee245da6b40000bd"
   ]
  },
  {
   "cell_type": "markdown",
   "metadata": {},
   "source": [
    "Complete the solution so that it strips all text that follows any of a set of comment markers passed in. Any whitespace at the end of the line should also be stripped out.\n",
    "\n",
    "Example:\n",
    "\n",
    "Given an input string of:\n",
    "\n",
    "apples, pears # and bananas\n",
    "grapes\n",
    "bananas !apples\n",
    "The output expected would be:\n",
    "\n",
    "apples, pears\n",
    "grapes\n",
    "bananas\n",
    "The code would be called like so:\n",
    "\n",
    "result = solution(\"apples, pears # and bananas\\ngrapes\\nbananas !apples\", [\"#\", \"!\"])\n",
    "result should == \"apples, pears\\ngrapes\\nbananas\""
   ]
  },
  {
   "cell_type": "code",
   "execution_count": null,
   "metadata": {},
   "outputs": [],
   "source": [
    "import re\n",
    "def solution(string,markers):\n",
    "    try:\n",
    "        regex=r\"[ \\r\\f\\v\\t]*[\" + ''.join(['\\\\'+ m + \"|\" for m in markers])[:-1] +r\"].*\"\n",
    "        pattern=re.compile(regex)\n",
    "        return pattern.sub('',string) \n",
    "    except:\n",
    "        return string\n"
   ]
  }
 ],
 "metadata": {
  "kernelspec": {
   "display_name": "Python 3",
   "language": "python",
   "name": "python3"
  },
  "language_info": {
   "codemirror_mode": {
    "name": "ipython",
    "version": 3
   },
   "file_extension": ".py",
   "mimetype": "text/x-python",
   "name": "python",
   "nbconvert_exporter": "python",
   "pygments_lexer": "ipython3",
   "version": "3.6.5"
  }
 },
 "nbformat": 4,
 "nbformat_minor": 2
}
